{
 "cells": [
  {
   "cell_type": "markdown",
   "id": "6a371c3e",
   "metadata": {},
   "source": [
    "# Lesson 1: Data Types\n",
    "\n",
    "What are data types? What data types are there? And when should I use each?"
   ]
  },
  {
   "cell_type": "markdown",
   "id": "ce3821aa",
   "metadata": {},
   "source": [
    "## Table of Contents\n",
    "\n",
    "* [What are \"data types\"?](#What-are-\"data-types\"?)\n",
    "* [What data types are there?](#What-data-types-are-there?)\n",
    "    * [Boolean Type - `bool`](#Boolean-Type)\n",
    "    * [Mapping Type `map`](#Mapping-Type)\n",
    "    * [None Type `NoneType`](#None-Type)\n",
    "    * [Numberic Types `int`, `float`](#Numberic-Types)\n",
    "    * [Sequence Types `list`, `tuple`](#Sequence-Types)\n",
    "    * [Text Type `str`](#Text-Type)\n",
    "* [References](#)\n"
   ]
  },
  {
   "cell_type": "markdown",
   "id": "9116418a",
   "metadata": {},
   "source": [
    "## What are \"data types\"?\n",
    "\n",
    "When coding, we often store data in variables. These variables each have a data type that tells the computer what kind of data the variable is. Think of how in Excel or Google Sheets a cell can have a date, currency, text, function, etc., those are data types!\n",
    "\n",
    "Data types also describe how variables themselves are stored. Think of how when wanting to remember something, you may write each of the things you want to remember down as a list of each item. These are sometimes referenced as \"Data Collection Types\"\n",
    "\n",
    "This is similar to how you may have a grocery list of grocery items. Implementing this into Python, we could use a <u>string</u> to store each grocery item, and store all of these <u>strings</u> inside of a <u>list</u>."
   ]
  },
  {
   "cell_type": "markdown",
   "id": "58e66d72",
   "metadata": {},
   "source": [
    "## What data types are there?\n",
    "\n",
    "The number of data types differs between programming languages. For the purpose of this course, we will be discussing data types in Python specifically. \n",
    "\n",
    "<!-- In Python, there are 5 main data (like _string_ above) types, listed below. There are also 6 data collection types (like _list_ above) which we will discuss about in a future lesson. -->\n",
    "\n",
    "Although there are many data types in Python I have included below the most used data types:\n",
    "\n",
    "\n",
    "| Data Type | Python Syntax | Valid Values |\n",
    "| --- | --- | --- | \n",
    "| Boolean | `bool` | `true` or `false` | \n",
    "| Dictionary | `dict = {`__`key1`__`: `__`val1`__`,`__`key2`__`: `__`val2`__`, ... }` | any |\n",
    "| None Type | `NoneType` | `None` |\n",
    "| Integer | `int` | any integer/whole number (e.g. `-12`, `0`, `34905`) | \n",
    "| Floating-Point | `float` | any decimal number (e.g. `-12.4`, `0.0`. `34905.11035`| \n",
    "| List | `list = [`__`val1`__`, `__`val2`__`, ...]` | any | \n",
    "| Tuple | `tuple = (`__`val1`__`, `__`val2`__`, ...)` | any |\n",
    "| String | `str = \"____\"` | any text (e.g. `apple`, `12`, `3 O'clock`) |\n",
    "|  |\n",
    "\n",
    "\n",
    "<!-- ### Binary Types\n",
    "* Bytes (`bytes`)\n",
    "* Byte Array (`bytearray`)\n",
    "* Memory View (`memoryview`) -->\n",
    "\n",
    "<!-- ### Set Types\n",
    "* Set (`set`)\n",
    "* Frozen Set (`frozenset`) -->\n",
    "\n"
   ]
  },
  {
   "cell_type": "markdown",
   "id": "8971f594",
   "metadata": {},
   "source": [
    "## Single Item Data Types"
   ]
  },
  {
   "cell_type": "markdown",
   "id": "33b5fa08",
   "metadata": {},
   "source": [
    "### Boolean Type\n",
    "* Boolean (`bool`)\n",
    "\n",
    "Variables of type boolean can store one of two values, either `true` or `false`. Boolean variables are often used as a sort of flag, to track if something has happened, is happening, etc.\n",
    "\n",
    "Examples - vars, simple operations, sample "
   ]
  },
  {
   "cell_type": "markdown",
   "id": "ec316968",
   "metadata": {},
   "source": [
    "### None Type\n",
    "* None Type (`None`)\n",
    "\n",
    "None"
   ]
  },
  {
   "cell_type": "markdown",
   "id": "ef115646",
   "metadata": {},
   "source": [
    "### Numberic Types\n",
    "* Integer (`int`)\n",
    "* Floating-Point (`float`)\n",
    "<!-- * Complex (`complex`) -->"
   ]
  },
  {
   "cell_type": "markdown",
   "id": "03dcfa5b",
   "metadata": {},
   "source": [
    "## Multiple Item Data Types"
   ]
  },
  {
   "cell_type": "markdown",
   "id": "235066ea",
   "metadata": {},
   "source": [
    "### Mapping Type\n",
    "* Dictionary (`dict`)"
   ]
  },
  {
   "cell_type": "markdown",
   "id": "8200afab",
   "metadata": {},
   "source": [
    "### Sequence Types\n",
    "* List (`list`)\n",
    "* Tuple (`tuple`)\n",
    "<!-- * Range (`range`) -->"
   ]
  },
  {
   "cell_type": "markdown",
   "id": "bf885450",
   "metadata": {},
   "source": [
    "### Text Type\n",
    "* String (`str`)"
   ]
  },
  {
   "cell_type": "code",
   "execution_count": null,
   "id": "3b6fa67b",
   "metadata": {},
   "outputs": [],
   "source": []
  }
 ],
 "metadata": {
  "kernelspec": {
   "display_name": "Python 3 (ipykernel)",
   "language": "python",
   "name": "python3"
  },
  "language_info": {
   "codemirror_mode": {
    "name": "ipython",
    "version": 3
   },
   "file_extension": ".py",
   "mimetype": "text/x-python",
   "name": "python",
   "nbconvert_exporter": "python",
   "pygments_lexer": "ipython3",
   "version": "3.8.8"
  }
 },
 "nbformat": 4,
 "nbformat_minor": 5
}
